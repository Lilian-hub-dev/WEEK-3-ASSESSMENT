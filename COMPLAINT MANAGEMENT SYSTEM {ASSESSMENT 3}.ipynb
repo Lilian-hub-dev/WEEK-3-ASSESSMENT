{
 "cells": [
  {
   "cell_type": "markdown",
   "id": "86852188",
   "metadata": {},
   "source": [
    "## WEEK 3 ASSESSMENT | COMPLAINT MANAGEMENT SYSTEM "
   ]
  },
  {
   "cell_type": "markdown",
   "id": "e5f9cc2b",
   "metadata": {},
   "source": [
    "# User Requirement (Manager)\n",
    "As a Data Scientist, you have been askedby your managerto build a system that helps the team todetect andtranslatecomplains made by thecompany’s French customers to English.Andthe system should also be able to translate to any language the team specifies.\n",
    "\n",
    "\n",
    "# User Case Story (Customer)\n",
    "1.The system should welcome me as a user\n",
    "2.The system should ask me to submitcomplain\n",
    "3.The system should tell me when my when my complain is submitted\n",
    "\n",
    "\n",
    "# User Case Story (Team)\n",
    "1.The system should list all the complain\n",
    "2.The system should ask me to pick a complain\n",
    "3.The system should be able to detect the language used in a complain text\n",
    "4.The system should be able to translate from one language to the other base on specification \n",
    "\n",
    "#TIPS:\n",
    "A.Variables\n",
    "B.Functions\n",
    "C.Loops\n",
    "D.Conditionals\n",
    "E.Import JSON to load your response to a dictionary\n",
    "F.API:\n",
    "On the Google translate Rapidapi platform, leverage on the following:\n",
    "    •POST translate\n",
    "    •POST detect\n"
   ]
  },
  {
   "cell_type": "code",
   "execution_count": null,
   "id": "1fd7fcf3",
   "metadata": {},
   "outputs": [
    {
     "name": "stdout",
     "output_type": "stream",
     "text": [
      "WELCOME to LILVIVA PLACE Esteemed customer!\n",
      "Enter 0 to submit complain, 1 to quit:0\n",
      "WELCOME to LILIVIVA PALACE Esteemed Customer!\n",
      "Please Enter your Full Name: lilian owino\n",
      "Please Enter Identification Number: 33341850\n",
      "Are you male or female?: female\n",
      "Please drop your feedback: Your good are low quality\n",
      "{'33341850': {'Full Name': 'lilian owino', 'ID': '33341850', 'Gender': 'female', 'Feedback': 'Your good are low quality'}}\n",
      "==========================\n",
      "Enter 0 to submit complain, 1 to quit:0\n",
      "Please Enter your Full Name: collins owino\n",
      "Please Enter you Identification Number:32678674\n",
      "Are you male or female?: male\n",
      "Please drop your feedback: Poor time management\n",
      "Data submitted!\n",
      "{'33341850': {'Full Name': 'lilian owino', 'ID': '33341850', 'Gender': 'female', 'Feedback': 'Your good are low quality'}, '32678674': {'Full Name': 'collins owino', 'ID': '32678674', 'gender': 'male', 'Feedback': 'Poor time management'}}\n",
      "========================\n",
      "Enter 0 to submit complain, 1 to quit:0\n",
      "Please Enter your Full Name: gladys nekesa \n",
      "Please Enter you Identification Number:11030812\n",
      "Are you male or female?: female\n",
      "Please drop your feedback: Your products are too expensive\n",
      "Data submitted!\n",
      "{'33341850': {'Full Name': 'lilian owino', 'ID': '33341850', 'Gender': 'female', 'Feedback': 'Your good are low quality'}, '32678674': {'Full Name': 'collins owino', 'ID': '32678674', 'gender': 'male', 'Feedback': 'Poor time management'}, '11030812': {'Full Name': 'gladys nekesa ', 'ID': '11030812', 'gender': 'female', 'Feedback': 'Your products are too expensive'}}\n",
      "========================\n",
      "Enter 0 to submit complain, 1 to quit:0\n",
      "Please Enter your Full Name: fredrick babu\n",
      "Please Enter you Identification Number:9287080\n",
      "Are you male or female?: male\n",
      "Please drop your feedback: Long queues\n",
      "Data submitted!\n",
      "{'33341850': {'Full Name': 'lilian owino', 'ID': '33341850', 'Gender': 'female', 'Feedback': 'Your good are low quality'}, '32678674': {'Full Name': 'collins owino', 'ID': '32678674', 'gender': 'male', 'Feedback': 'Poor time management'}, '11030812': {'Full Name': 'gladys nekesa ', 'ID': '11030812', 'gender': 'female', 'Feedback': 'Your products are too expensive'}, '9287080': {'Full Name': 'fredrick babu', 'ID': '9287080', 'gender': 'male', 'Feedback': 'Long queues'}}\n",
      "========================\n",
      "Enter 0 to submit complain, 1 to quit:1\n",
      "Oops, sorry!\n"
     ]
    }
   ],
   "source": [
    "# Create Account\n",
    "user_complaints = {}\n",
    "\n",
    "\n",
    "def register():\n",
    "    if user_complaints:\n",
    "        \n",
    "        full_name = input(\"Please Enter your Full Name: \")\n",
    "        ID_number = input(\"Please Enter you Identification Number:\")\n",
    "        gender = input(\"Are you male or female?: \")\n",
    "        feedback = input(\"Please drop your feedback: \")\n",
    "        \n",
    "        if ID_number in user_complaints.values():\n",
    "            print('==========================')\n",
    "            print('We already recorded your feedback!')\n",
    "            \n",
    "        else:\n",
    "            for record in user_complaints.values():\n",
    "                if ID_number in record.values():\n",
    "                    print('Data already exist, thank you!')\n",
    "                else:\n",
    "                    user_complaints[ID_number] = {\"Full Name\": full_name, \"ID\": ID_number, \"gender\": gender,\"Feedback\": feedback}\n",
    "                    print('Data submitted!')\n",
    "                    print(user_complaints)\n",
    "                    print('========================')\n",
    "                    break\n",
    "                    \n",
    "    else:\n",
    "        print('WELCOME to LILIVIVA PALACE Esteemed Customer!')\n",
    "        full_name = input(\"Please Enter your Full Name: \")\n",
    "        ID_number = input(\"Please Enter Identification Number: \")\n",
    "        gender = input(\"Are you male or female?: \")\n",
    "        feedback = input(\"Please drop your feedback: \")\n",
    "        user_complaints[ID_number] = {\"Full Name\": full_name, \"ID\": ID_number, \"Gender\": gender, \"Feedback\": feedback}\n",
    "        print(user_complaints)\n",
    "        print('==========================')\n",
    "                    \n",
    "    \n",
    "\n",
    "def main():\n",
    "    runtime = 1\n",
    "    print('WELCOME to LILVIVA PALACE Esteemed customer!')\n",
    "    while runtime:\n",
    "        checker = int(input('Enter 0 to submit complain, 1 to quit:'))\n",
    "                      \n",
    "        if checker == 0:\n",
    "            register()\n",
    "        elif checker == 1:\n",
    "            print('Oops, sorry!')\n",
    "        \n",
    "        else:\n",
    "            print('Invalid value, try again')\n",
    "            main()\n",
    "\n",
    "main()"
   ]
  },
  {
   "cell_type": "code",
   "execution_count": 10,
   "id": "07cc31b4",
   "metadata": {},
   "outputs": [],
   "source": [
    "import json\n",
    "import requests\n",
    "\n",
    "\n",
    "user_complaints = {}\n",
    "\n",
    "# add complaints\n",
    "user_complaints['33341850'] = {'Full Name': 'lilian owino', 'ID': 33341850, 'gender': 'female', 'Feedback': 'Your good are low quality'}\n",
    "user_complaints['32678674'] = {'Full Name': 'collins owino', 'ID': '32678674', 'gender': 'male', 'Feedback': 'Poor time management'}\n",
    "user_complaints['11030812'] = {'Full Name': 'gladys nekesa ', 'ID': '11030812', 'gender': 'female', 'Feedback': 'Your products are too expensive'}\n",
    "user_complaints['9287080'] = {'Full Name': 'fredrick babu', 'ID': '9287080', 'gender': 'male', 'Feedback': 'Long queues'}\n",
    "\n",
    "with open('mydata.json', 'w') as f:\n",
    "    json.dump(user_complaints, f)"
   ]
  },
  {
   "cell_type": "code",
   "execution_count": 11,
   "id": "de667023",
   "metadata": {},
   "outputs": [
    {
     "data": {
      "text/plain": [
       "<_io.TextIOWrapper name='mydata.json' mode='r' encoding='cp1252'>"
      ]
     },
     "execution_count": 11,
     "metadata": {},
     "output_type": "execute_result"
    }
   ],
   "source": [
    "open('mydata.json')"
   ]
  },
  {
   "cell_type": "code",
   "execution_count": 12,
   "id": "110415fc",
   "metadata": {},
   "outputs": [
    {
     "name": "stdout",
     "output_type": "stream",
     "text": [
      "{'Full Name': 'lilian owino', 'ID': 33341850, 'gender': 'female', 'Feedback': 'Your good are low quality'}\n",
      "{'Full Name': 'collins owino', 'ID': '32678674', 'gender': 'male', 'Feedback': 'Poor time management'}\n",
      "{'Full Name': 'gladys nekesa ', 'ID': '11030812', 'gender': 'female', 'Feedback': 'Your products are too expensive'}\n",
      "{'Full Name': 'fredrick babu', 'ID': '9287080', 'gender': 'male', 'Feedback': 'Long queues'}\n"
     ]
    }
   ],
   "source": [
    "f = open('mydata.json')\n",
    "user_complaints = json.load(f)\n",
    "\n",
    "\n",
    "print(user_complaints['33341850'])\n",
    "print(user_complaints['32678674'])\n",
    "print(user_complaints['11030812'])\n",
    "print(user_complaints['9287080'])\n",
    "\n",
    "f.close()"
   ]
  },
  {
   "cell_type": "code",
   "execution_count": 20,
   "id": "fbd76254",
   "metadata": {},
   "outputs": [
    {
     "name": "stdout",
     "output_type": "stream",
     "text": [
      "{\"message\":\"You have exceeded the MONTHLY quota for Characters on your current plan, BASIC. Upgrade your plan at https:\\/\\/rapidapi.com\\/googlecloud\\/api\\/google-translate1\"}\n",
      "{\"message\":\"You have exceeded the MONTHLY quota for Characters on your current plan, BASIC. Upgrade your plan at https:\\/\\/rapidapi.com\\/googlecloud\\/api\\/google-translate1\"}\n"
     ]
    }
   ],
   "source": [
    "#language detection\n",
    "\n",
    "import requests\n",
    "\n",
    "url = \"https://google-translate1.p.rapidapi.com/language/translate/v2/detect\"\n",
    "\n",
    "payload = \"q=Your%20good%20are%20low%20quality\"\n",
    "headers = {\n",
    "    'content-type': \"application/x-www-form-urlencoded\",\n",
    "    'accept-encoding': \"application/gzip\",\n",
    "    'x-rapidapi-key': \"870f6b625dmshf8e56af233fc91bp136c80jsn93c71c415fae\",\n",
    "    'x-rapidapi-host': \"google-translate1.p.rapidapi.com\"\n",
    "    }\n",
    "\n",
    "response = requests.request(\"POST\", url, data=payload, headers=headers)\n",
    "\n",
    "print(response.text)\n",
    "\n",
    "result = response.text\n",
    "print(result)"
   ]
  },
  {
   "cell_type": "code",
   "execution_count": 18,
   "id": "ef880fb0",
   "metadata": {},
   "outputs": [
    {
     "name": "stdout",
     "output_type": "stream",
     "text": [
      "{\"data\":{\"translations\":[{\"translatedText\":\"Tu bien es de baja calidad\"}]}}\n",
      "{\"data\":{\"translations\":[{\"translatedText\":\"Tu bien es de baja calidad\"}]}}\n"
     ]
    }
   ],
   "source": [
    "import requests\n",
    "\n",
    "url = \"https://google-translate1.p.rapidapi.com/language/translate/v2\"\n",
    "\n",
    "payload = \"q=Your%20good%20are%20low%20quality&target=es&source=en\"\n",
    "headers = {\n",
    "    'content-type': \"application/x-www-form-urlencoded\",\n",
    "    'accept-encoding': \"application/gzip\",\n",
    "    'x-rapidapi-key': \"870f6b625dmshf8e56af233fc91bp136c80jsn93c71c415fae\",\n",
    "    'x-rapidapi-host': \"google-translate1.p.rapidapi.com\"\n",
    "    }\n",
    "\n",
    "response = requests.request(\"POST\", url, data=payload, headers=headers)\n",
    "\n",
    "print(response.text)\n",
    "result = response.text\n",
    "print(result)"
   ]
  },
  {
   "cell_type": "code",
   "execution_count": null,
   "id": "b87c464e",
   "metadata": {},
   "outputs": [],
   "source": []
  }
 ],
 "metadata": {
  "kernelspec": {
   "display_name": "Python 3",
   "language": "python",
   "name": "python3"
  },
  "language_info": {
   "codemirror_mode": {
    "name": "ipython",
    "version": 3
   },
   "file_extension": ".py",
   "mimetype": "text/x-python",
   "name": "python",
   "nbconvert_exporter": "python",
   "pygments_lexer": "ipython3",
   "version": "3.8.8"
  }
 },
 "nbformat": 4,
 "nbformat_minor": 5
}
